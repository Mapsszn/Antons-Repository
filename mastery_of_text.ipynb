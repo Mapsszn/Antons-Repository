{
 "cells": [
  {
   "cell_type": "code",
   "execution_count": 47,
   "id": "11ab9a30-77f8-488c-859b-6ec4334eaf58",
   "metadata": {},
   "outputs": [
    {
     "name": "stdout",
     "output_type": "stream",
     "text": [
      "1. 99968\n",
      "2. 749560\n",
      "3. 113\n",
      "4. the\n"
     ]
    }
   ],
   "source": [
    "import urllib.request\n",
    "pg10 = urllib.request.urlopen(\"https://www.gutenberg.org/cache/epub/10/pg10.txt\")\n",
    "pg10_file = pg10.read()\n",
    "\n",
    "lines = pg10_file.splitlines()\n",
    "number_lines = len(lines)\n",
    "print(\"1. \" + str(number_lines))\n",
    "\n",
    "pg10_file = str(pg10_file)\n",
    "\n",
    "print(\"2. \" + str(len(pg10_file.split())))\n",
    "\n",
    "print(\"3. \" + str((pg10_file.count(\"apostle\")) + (pg10_file.count(\"Apostle\"))))\n",
    "\n",
    "words = pg10_file.split()\n",
    "word_count = {}\n",
    "for i in words:\n",
    "    lowercase = i.lower()\n",
    "    if lowercase in word_count:\n",
    "        word_count[lowercase] += 1\n",
    "    else:\n",
    "        word_count[lowercase] = 1\n",
    "most_common_word = \"\"\n",
    "most_common_word_count = 0\n",
    "for i in word_count:\n",
    "    if word_count[i] > most_common_word_count:\n",
    "        most_common_word = i\n",
    "        most_common_word_count = word_count[i]\n",
    "\n",
    "print(\"4. \" + (most_common_word))\n",
    "        "
   ]
  },
  {
   "cell_type": "code",
   "execution_count": null,
   "id": "1523e9fe-dd5f-490a-926a-e8a693700552",
   "metadata": {},
   "outputs": [],
   "source": []
  },
  {
   "cell_type": "code",
   "execution_count": null,
   "id": "81f47950-57bb-40d5-b65d-854d3f72c32f",
   "metadata": {},
   "outputs": [],
   "source": []
  },
  {
   "cell_type": "code",
   "execution_count": null,
   "id": "ee1e8243-6989-447f-9f25-a28861caf0dd",
   "metadata": {},
   "outputs": [],
   "source": []
  }
 ],
 "metadata": {
  "kernelspec": {
   "display_name": "Python [conda env:base] *",
   "language": "python",
   "name": "conda-base-py"
  },
  "language_info": {
   "codemirror_mode": {
    "name": "ipython",
    "version": 3
   },
   "file_extension": ".py",
   "mimetype": "text/x-python",
   "name": "python",
   "nbconvert_exporter": "python",
   "pygments_lexer": "ipython3",
   "version": "3.12.7"
  }
 },
 "nbformat": 4,
 "nbformat_minor": 5
}
